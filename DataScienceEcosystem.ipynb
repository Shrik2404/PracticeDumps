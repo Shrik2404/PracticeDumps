{
 "cells": [
  {
   "cell_type": "markdown",
   "id": "423b1a20-533c-453b-910b-3ca288233e78",
   "metadata": {},
   "source": [
    "# Data Science Tools and Ecosystem"
   ]
  },
  {
   "cell_type": "code",
   "execution_count": 3,
   "id": "cd652573-7a27-4c85-a305-6ffb14a515ec",
   "metadata": {},
   "outputs": [],
   "source": [
    "#Exercise 2: Create markdown cell with title of the notebook"
   ]
  },
  {
   "cell_type": "markdown",
   "id": "8e9b872a-101f-407a-bc7e-59ac99fdee57",
   "metadata": {},
   "source": [
    "Exercise 3 - Create a markdown cell for an INTRODUCTION"
   ]
  },
  {
   "cell_type": "code",
   "execution_count": 6,
   "id": "43585381-32e2-4964-b62c-2428fc4b80a8",
   "metadata": {},
   "outputs": [],
   "source": [
    "#In this notebook, Data Science Tools and Ecosystem are summarized."
   ]
  },
  {
   "cell_type": "markdown",
   "id": "2505aa4e-95a2-43d5-96aa-b59cefb4410e",
   "metadata": {},
   "source": [
    "Some of the popular languages that Data Scientists use are:"
   ]
  },
  {
   "cell_type": "code",
   "execution_count": 9,
   "id": "d7c53485-3114-4263-90e9-31d1687aa24c",
   "metadata": {},
   "outputs": [],
   "source": [
    "#Exercise 4 - Create a markdown cell to list data science languages"
   ]
  },
  {
   "cell_type": "code",
   "execution_count": 11,
   "id": "e02d94e2-77b4-4165-9a41-33d2284ab25e",
   "metadata": {},
   "outputs": [],
   "source": [
    "data_science_languages = [\"Python\", \"R\", \"SQL\"]"
   ]
  },
  {
   "cell_type": "code",
   "execution_count": 13,
   "id": "c93e340e-c10b-4eb0-bea9-3a434b39d927",
   "metadata": {},
   "outputs": [
    {
     "name": "stdout",
     "output_type": "stream",
     "text": [
      "['Python', 'R', 'SQL']\n"
     ]
    }
   ],
   "source": [
    "print (data_science_languages)"
   ]
  },
  {
   "cell_type": "markdown",
   "id": "f6898faa-ec1b-4894-8978-26a41466cf27",
   "metadata": {},
   "source": [
    "Some of the commonly used libraries used by Data Scientists include:"
   ]
  },
  {
   "cell_type": "code",
   "execution_count": 22,
   "id": "b9bdd6f9-b3af-4fe6-a0a3-9d527a26fce5",
   "metadata": {},
   "outputs": [],
   "source": [
    "#Exercise 5 - Create a markdown cell to list data science libraries\n",
    "DS_lib = [\"Pandas\", \"NumPy\", \"Seaborn\", \"Sci-py\", \"Geopandas\"]"
   ]
  },
  {
   "cell_type": "code",
   "execution_count": 18,
   "id": "a8b7e82a-a4e1-47a7-9c14-e64c40cfa00e",
   "metadata": {},
   "outputs": [
    {
     "name": "stdout",
     "output_type": "stream",
     "text": [
      "['Pandas', 'NumPy', 'Seaborn', 'Sci-py', 'Geopandas']\n"
     ]
    }
   ],
   "source": [
    "print(DS_lib)"
   ]
  },
  {
   "cell_type": "markdown",
   "id": "b6bb12f3-eedc-417b-b631-bb8d4a190b67",
   "metadata": {},
   "source": [
    "Data Science Tools"
   ]
  },
  {
   "cell_type": "code",
   "execution_count": 25,
   "id": "25608913-af73-472a-b0ed-6abd3ce3b0dd",
   "metadata": {},
   "outputs": [],
   "source": [
    "#Exercise 6 - Create a markdown cell with a table of Data Science tools"
   ]
  },
  {
   "cell_type": "markdown",
   "id": "1f414b71-c795-4ef5-8af0-cb24779a06ea",
   "metadata": {},
   "source": [
    "| Data Science Tools |\n",
    "|--------------------|\n",
    "| Jupyter Notebook   |\n",
    "| RStudio            |\n",
    "| Apache Zeppelin    |\n"
   ]
  },
  {
   "cell_type": "markdown",
   "id": "4e51f2a8-34d0-4439-a392-8091ea305b42",
   "metadata": {},
   "source": [
    "### Below are a few examples of evaluating arithmetic expressions in Python"
   ]
  },
  {
   "cell_type": "code",
   "execution_count": 32,
   "id": "5928db47-50ba-4e54-a0e9-f5ae4233ba72",
   "metadata": {},
   "outputs": [
    {
     "data": {
      "text/plain": [
       "56"
      ]
     },
     "execution_count": 32,
     "metadata": {},
     "output_type": "execute_result"
    }
   ],
   "source": [
    "#Exercise 7 - Create a markdown cell introducing arithmetic expression examples\n",
    "(5+3)*7"
   ]
  },
  {
   "cell_type": "code",
   "execution_count": 38,
   "id": "5875a9a7-280a-4c39-82a8-5a2481854e4a",
   "metadata": {},
   "outputs": [
    {
     "data": {
      "text/plain": [
       "17"
      ]
     },
     "execution_count": 38,
     "metadata": {},
     "output_type": "execute_result"
    }
   ],
   "source": [
    "#Exercise 7 - Create a markdown cell introducing arithmetic expression examples\n",
    "#This a simple arithmetic expression to mutiply then add integers\n",
    "(3*4)+5"
   ]
  },
  {
   "cell_type": "code",
   "execution_count": 50,
   "id": "c98c6c1d-43ee-4cf1-b3c3-a936d92c5973",
   "metadata": {},
   "outputs": [
    {
     "name": "stdout",
     "output_type": "stream",
     "text": [
      "3.3333333333333335 hours\n"
     ]
    }
   ],
   "source": [
    "#Exercise 9 - Create a code cell to convert minutes to hours\n",
    "#This will convert 200 minutes to hours by diving by 60\n",
    "result = (200/60) #\"mins\"\n",
    "print(result,\"hours\")"
   ]
  },
  {
   "cell_type": "code",
   "execution_count": 52,
   "id": "5181ee3c-544c-4c3b-91b6-f14e4c0a8e15",
   "metadata": {},
   "outputs": [],
   "source": [
    "#Exercise 10 - Insert a markdown cell to list Objectives"
   ]
  },
  {
   "cell_type": "markdown",
   "id": "53687b88-cca0-418e-a3a2-a6be56f17408",
   "metadata": {},
   "source": [
    "**Objectives:**\n",
    "\n",
    "- List popular languages for Data Science.\n",
    "- Explore key data science tools and environments.\n",
    "- Understand the basics of Markdown in Jupyter.\n",
    "- Demonstrate simple Python calculations.\n",
    "- Discuss the application of data science in real-world scenarios.\n"
   ]
  },
  {
   "cell_type": "markdown",
   "id": "a234ec6f-1096-48c8-8fb3-8c8108845ebb",
   "metadata": {},
   "source": [
    "## Author: Atharva S.\n"
   ]
  },
  {
   "cell_type": "code",
   "execution_count": 58,
   "id": "acdc34e9-20ba-4fa2-8c1f-5b269ad1db80",
   "metadata": {},
   "outputs": [],
   "source": [
    "#Exercise 12 - Share your notebook through GitHub\n",
    "#https://github.com/Shrik2404/PracticeDumps"
   ]
  },
  {
   "cell_type": "code",
   "execution_count": null,
   "id": "8f0e633b-fd92-40e5-a6d7-847ec615ee49",
   "metadata": {},
   "outputs": [],
   "source": []
  }
 ],
 "metadata": {
  "kernelspec": {
   "display_name": "Python 3 (ipykernel)",
   "language": "python",
   "name": "python3"
  },
  "language_info": {
   "codemirror_mode": {
    "name": "ipython",
    "version": 3
   },
   "file_extension": ".py",
   "mimetype": "text/x-python",
   "name": "python",
   "nbconvert_exporter": "python",
   "pygments_lexer": "ipython3",
   "version": "3.12.7"
  }
 },
 "nbformat": 4,
 "nbformat_minor": 5
}
